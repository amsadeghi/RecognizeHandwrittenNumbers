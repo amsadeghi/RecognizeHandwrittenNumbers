{
  "nbformat": 4,
  "nbformat_minor": 0,
  "metadata": {
    "colab": {
      "provenance": [],
      "authorship_tag": "ABX9TyNlD1UANu63qXIMCWVliD6u",
      "include_colab_link": true
    },
    "kernelspec": {
      "name": "python3",
      "display_name": "Python 3"
    },
    "language_info": {
      "name": "python"
    }
  },
  "cells": [
    {
      "cell_type": "markdown",
      "metadata": {
        "id": "view-in-github",
        "colab_type": "text"
      },
      "source": [
        "<a href=\"https://colab.research.google.com/github/amsadeghi/RecognizeHandwrittenNumbers/blob/main/bioinformatic01.ipynb\" target=\"_parent\"><img src=\"https://colab.research.google.com/assets/colab-badge.svg\" alt=\"Open In Colab\"/></a>"
      ]
    },
    {
      "cell_type": "code",
      "execution_count": 6,
      "metadata": {
        "colab": {
          "base_uri": "https://localhost:8080/",
          "height": 0
        },
        "id": "waECCG6uwl3I",
        "outputId": "e59e19e3-36c4-48e6-a30e-c0ef01ee3dcc"
      },
      "outputs": [
        {
          "output_type": "execute_result",
          "data": {
            "text/plain": [
              "[3, 4, 5]"
            ]
          },
          "metadata": {},
          "execution_count": 6
        }
      ],
      "source": [
        "#Given two input lists L1 and L2, write a function which selects all elements which are present both in\n",
        "#L1 and in L2, and returns them in a list L3\n",
        "\n",
        "def intersection (L1,L2):\n",
        "  L=[]\n",
        "  for i in range(len(L1)):\n",
        "    for j in range(len(L2)):\n",
        "      if L1[i]==L2[j]:\n",
        "        L.append(L1[i])\n",
        "  return L\n",
        "\n",
        "def intersection2(L1,L2):\n",
        "  L=[]\n",
        "  for i in range(len(L1)):\n",
        "    if L1[i] in L2:\n",
        "      L.append(L1[i])\n",
        "  return L\n",
        "#test\n",
        "L1=[1,2,3,4,5]\n",
        "L2=[3,4,5,6,7]\n",
        "A=intersection2(L1,L2)\n",
        "A"
      ]
    },
    {
      "cell_type": "code",
      "source": [
        "#Build a nxm 0s matrix\n",
        "\n",
        "def zero_matrix (n,m):\n",
        "  M=[]\n",
        "  for i in range(n):\n",
        "    L=[]\n",
        "    for j in range(m):\n",
        "      L.append(0)\n",
        "    M.append(L)\n",
        "  return M\n",
        "#test\n",
        "A=zero_matrix(3,4)\n",
        "A"
      ],
      "metadata": {
        "colab": {
          "base_uri": "https://localhost:8080/",
          "height": 0
        },
        "id": "nhPluY2J0UZF",
        "outputId": "b6a02dac-1fe2-41a0-f566-5669382fe11a"
      },
      "execution_count": 23,
      "outputs": [
        {
          "output_type": "execute_result",
          "data": {
            "text/plain": [
              "[[0, 0, 0, 0], [0, 0, 0, 0], [0, 0, 0, 0]]"
            ]
          },
          "metadata": {},
          "execution_count": 23
        }
      ]
    },
    {
      "cell_type": "code",
      "source": [
        "#Sum two matrixes\n",
        "\n",
        "def sum_2_matrices(M1,M2):\n",
        "  if len(M1)!=len(M2) or len(M1[0])!=len(M2[0]):\n",
        "    return \"must the same dim\"\n",
        "  M=[]\n",
        "  for i in range(len(M1)):\n",
        "    L=[]\n",
        "    for j in range(len(M1[0])):\n",
        "      a=M1[i][j]+M2[i][j]\n",
        "      L.append(a)\n",
        "    M.append(L)\n",
        "  return M\n",
        "#test\n",
        "M1=[[1,1,2,1],[1,1,1,1],[1,1,1,1]]\n",
        "M2=[[1,1,1,1],[1,1,1,1],[1,1,1,1]]\n",
        "A=sum_2_matrices(M1,M2)\n",
        "A"
      ],
      "metadata": {
        "colab": {
          "base_uri": "https://localhost:8080/",
          "height": 0
        },
        "id": "iBW3E-Wi2Vdq",
        "outputId": "890d5345-9682-4a31-d899-87cc0912573e"
      },
      "execution_count": 8,
      "outputs": [
        {
          "output_type": "execute_result",
          "data": {
            "text/plain": [
              "[[2, 2, 3, 2], [2, 2, 2, 2], [2, 2, 2, 2]]"
            ]
          },
          "metadata": {},
          "execution_count": 8
        }
      ]
    },
    {
      "cell_type": "code",
      "source": [
        "#Multiply two matrixes\n",
        "\n",
        "def matmul (M1,M2):\n",
        "  if len(M1[0])!=len(M2):\n",
        "    return \"unfeasible\"\n",
        "  M=[]\n",
        "  for i in range(len(M1)):\n",
        "    L=[]\n",
        "    for j in range(len(M2[0])):\n",
        "      a=0\n",
        "      for k in range(len(M2)):\n",
        "        a+=M1[i][k]*M2[k][i]\n",
        "      L.append(a)\n",
        "    M.append(L)\n",
        "  return M\n",
        "M1=[[1,1,1,1],[1,1,1,1],[1,1,1,1]]\n",
        "M2=[[1,1,1,1],[1,1,1,1],[1,1,1,1],[1,1,1,1]]\n",
        "A=matmul(M1,M2)\n",
        "A"
      ],
      "metadata": {
        "colab": {
          "base_uri": "https://localhost:8080/",
          "height": 0
        },
        "id": "fqgmqljb-UaB",
        "outputId": "663daa64-3cbd-45ee-c5e6-92632ec899f0"
      },
      "execution_count": 9,
      "outputs": [
        {
          "output_type": "execute_result",
          "data": {
            "text/plain": [
              "[[4, 4, 4, 4], [4, 4, 4, 4], [4, 4, 4, 4]]"
            ]
          },
          "metadata": {},
          "execution_count": 9
        }
      ]
    },
    {
      "cell_type": "code",
      "source": [
        "#Compute the transposed matrix of a given input matrix of size NxN\n",
        "\n",
        "def Tmatrix(M):\n",
        "  M1=[]\n",
        "  for i in range(len(M)):\n",
        "    L=[]\n",
        "    for j in range(len(M[i])):\n",
        "      L.append(M[j][i])\n",
        "    M1.append(L)\n",
        "  return M1\n",
        "M=[[1,1,1],[2,2,2],[3,3,3]]\n",
        "A=Tmatrix(M)\n",
        "A"
      ],
      "metadata": {
        "colab": {
          "base_uri": "https://localhost:8080/",
          "height": 0
        },
        "id": "NxPKYjotD0Uy",
        "outputId": "b66574ad-3f60-49aa-ea7e-1d59ee161826"
      },
      "execution_count": 10,
      "outputs": [
        {
          "output_type": "execute_result",
          "data": {
            "text/plain": [
              "[[1, 2, 3], [1, 2, 3], [1, 2, 3]]"
            ]
          },
          "metadata": {},
          "execution_count": 10
        }
      ]
    },
    {
      "cell_type": "code",
      "source": [
        "#Given a rectangular input matrix M, write a function which returns a boolean value True if and only\n",
        "#if there exist two different rows in M,\n",
        "#whose sum gives the null vector.\n",
        "\n",
        "def Matcheckrow(M):\n",
        "  L=[]\n",
        "  for i in range(len(M)-1):\n",
        "    for j in range(i+1,len(M)):\n",
        "      L1=[]\n",
        "      for k in range(len(M[0])):\n",
        "        a=M[i][k]+M[j][k]\n",
        "        L1.append(a)\n",
        "      L.append(L1)\n",
        "  b=0\n",
        "  for i in range(len(L)):\n",
        "    if sum(L[i])==0:\n",
        "      b+=1\n",
        "  if b==1:\n",
        "    return True\n",
        "  else: return False\n",
        "\n",
        "#Do the same for two different columns.\n",
        "\n",
        "def Matcheckcolumn(M):\n",
        "  L=[]\n",
        "  for i in range(len(M[0])-1):\n",
        "    for j in range(i+1,len(M[0])):\n",
        "      L1=[]\n",
        "      for k in range(len(M)):\n",
        "        a=M[k][i]+M[k][j]\n",
        "        L1.append(a)\n",
        "      L.append(L1)\n",
        "  b=0\n",
        "  for i in range(len(L)):\n",
        "    if sum(L[i])==0:\n",
        "      b+=1\n",
        "  if b==1:\n",
        "    return True\n",
        "  else: return False\n",
        "#test\n",
        "M=[[1,1,1,1],\n",
        "   [-1,-1,-1,-1],\n",
        "   [-1,1,-2,-1]]\n",
        "A=Matcheckcolumn(M)\n",
        "print(\"column:\",A)\n",
        "B=Matcheckrow(M)\n",
        "print(\"Row:\",B)\n"
      ],
      "metadata": {
        "colab": {
          "base_uri": "https://localhost:8080/",
          "height": 0
        },
        "id": "pIeOzEd1IcAt",
        "outputId": "95995f9f-13ca-46d7-8179-76acfe22238a"
      },
      "execution_count": 11,
      "outputs": [
        {
          "output_type": "stream",
          "name": "stdout",
          "text": [
            "column: False\n",
            "Row: True\n"
          ]
        }
      ]
    },
    {
      "cell_type": "code",
      "source": [
        "#Eliminate all the negative elements from a list\n",
        "\n",
        "def eleminate_negative(L):\n",
        "  for i in range(len(L)-1,-1,-1):\n",
        "    if L[i]<0:\n",
        "      L.pop(i)\n",
        "  return L\n",
        "#test\n",
        "L=[-1,2,-2,4,-5]\n",
        "A=eleminate_negative(L)\n",
        "L"
      ],
      "metadata": {
        "colab": {
          "base_uri": "https://localhost:8080/",
          "height": 0
        },
        "id": "AwkfdtxFWSsz",
        "outputId": "a6c503f0-0528-41f1-b878-f06aa8691028"
      },
      "execution_count": 12,
      "outputs": [
        {
          "output_type": "execute_result",
          "data": {
            "text/plain": [
              "[2, 4]"
            ]
          },
          "metadata": {},
          "execution_count": 12
        }
      ]
    },
    {
      "cell_type": "code",
      "source": [
        "#Eliminate all the negative elements in position multiple of 3 from a list\n",
        "\n",
        "def eleminate_negative3(L):\n",
        "  for i in range(len(L)-1,-1,-1):\n",
        "    if L[i]<0 and i%3==0:\n",
        "      L.pop(i)\n",
        "  return L\n",
        "#test\n",
        "L=[-1,2,-2,4,-5,-2,-1]\n",
        "A=eleminate_negative3(L)\n",
        "L"
      ],
      "metadata": {
        "colab": {
          "base_uri": "https://localhost:8080/",
          "height": 0
        },
        "id": "PDyLqRJVh0dQ",
        "outputId": "d1af7cbc-e24b-4210-dde3-ae01362fe04a"
      },
      "execution_count": 22,
      "outputs": [
        {
          "output_type": "execute_result",
          "data": {
            "text/plain": [
              "[2, -2, 4, -5, -2]"
            ]
          },
          "metadata": {},
          "execution_count": 22
        }
      ]
    },
    {
      "cell_type": "code",
      "source": [
        "#Define a class for binary trees\n",
        "\n",
        "class Tree:\n",
        "  def __init__(self, root=None , left=None,right=None):\n",
        "    self.root=root\n",
        "    self.left=left\n",
        "    self.right=right\n",
        "\n",
        "def print_tree(T):\n",
        "  if T is not None:\n",
        "    print_tree(T.left)\n",
        "    print(T.root)\n",
        "    print_tree(T.right)\n",
        "# test\n",
        "T=Tree(\"a\",Tree(\"b\",Tree(\"c\"),Tree(\"d\",Tree(\"f\"))),Tree(\"e\"))\n",
        "print_tree(T)"
      ],
      "metadata": {
        "colab": {
          "base_uri": "https://localhost:8080/"
        },
        "id": "vHSu5ruOHT0j",
        "outputId": "f8089271-66f4-4c02-aeae-26f88e671d6e"
      },
      "execution_count": 25,
      "outputs": [
        {
          "output_type": "stream",
          "name": "stdout",
          "text": [
            "c\n",
            "b\n",
            "f\n",
            "d\n",
            "a\n",
            "e\n"
          ]
        }
      ]
    },
    {
      "cell_type": "code",
      "source": [
        "#Compute the height of a tree\n",
        "def height_T(T):\n",
        "  if T is None or T.root is None:\n",
        "    h=-1\n",
        "  else:\n",
        "    hl=height_T(T.left)+1\n",
        "    hr=height_T(T.right)+1\n",
        "    h=max(hl,hr)\n",
        "  return h\n",
        "A=height_T(T)\n",
        "A"
      ],
      "metadata": {
        "colab": {
          "base_uri": "https://localhost:8080/",
          "height": 0
        },
        "id": "vJZtjT1hLlsM",
        "outputId": "2ee687c9-ea7f-4307-c8f0-d91866d9b5fd"
      },
      "execution_count": 15,
      "outputs": [
        {
          "output_type": "execute_result",
          "data": {
            "text/plain": [
              "3"
            ]
          },
          "metadata": {},
          "execution_count": 15
        }
      ]
    },
    {
      "cell_type": "code",
      "source": [
        "#Convert a binary tree into a list (in order traversal)\n",
        "\n",
        "def T2list(T):\n",
        "  if T is None or T.root is None:\n",
        "    return []\n",
        "  else:\n",
        "    L=T2list(T.left)\n",
        "    Ro=[T.root]\n",
        "    R=T2list(T.right)\n",
        "  return L+Ro+R\n",
        "A=T2list(T)\n",
        "A"
      ],
      "metadata": {
        "colab": {
          "base_uri": "https://localhost:8080/",
          "height": 0
        },
        "id": "phsEapgEZW_q",
        "outputId": "e541e5dc-06a3-4bf2-9918-955a3779514d"
      },
      "execution_count": 16,
      "outputs": [
        {
          "output_type": "execute_result",
          "data": {
            "text/plain": [
              "['c', 'b', 'f', 'd', 'a', 'e']"
            ]
          },
          "metadata": {},
          "execution_count": 16
        }
      ]
    },
    {
      "cell_type": "code",
      "source": [
        "#Verify if two binary trees are balance\n",
        "\n",
        "def isbalance(T):\n",
        "  if T is None or T.root is None:\n",
        "    return True\n",
        "  else:\n",
        "    L=height_T(T.left)\n",
        "    R=height_T(T.right)\n",
        "    if L-R<-1 or L-R>1:\n",
        "      return False\n",
        "    else:\n",
        "      isbalance(T.left)\n",
        "      isbalance(T.right)\n",
        "  return True\n",
        "M=Tree(10,(Tree(8,Tree(6),Tree(7))),Tree(12,Tree(11),Tree(13)))\n",
        "A=isbalance(M)\n",
        "A"
      ],
      "metadata": {
        "colab": {
          "base_uri": "https://localhost:8080/",
          "height": 0
        },
        "id": "nwlbtPQTeg1I",
        "outputId": "e82559ab-5242-4216-dbba-f8aceb2172cb"
      },
      "execution_count": 17,
      "outputs": [
        {
          "output_type": "execute_result",
          "data": {
            "text/plain": [
              "True"
            ]
          },
          "metadata": {},
          "execution_count": 17
        }
      ]
    },
    {
      "cell_type": "code",
      "source": [
        "#input two rectangular matrixes M, and M1 of integer values, having the same size NxM,\n",
        "# and which returns a boolean value True if and only if there exist one column from M and\n",
        "#one from M1 such that the sum of the values in each of the two columns is the same.\n",
        "\n",
        "def columnchecker(M,M1):\n",
        "  L1=[]\n",
        "  L=[]\n",
        "  for j in range(len(M[0])):\n",
        "    a=0\n",
        "    for i in range(len(M)):\n",
        "      a+=M[i][j]\n",
        "    L.append(a)\n",
        "  print(L)\n",
        "  for j in range(len(M1[0])):\n",
        "    a=0\n",
        "    for i in range(len(M1)):\n",
        "      a+=M1[i][j]\n",
        "    L1.append(a)\n",
        "  for n in range(len(L)):\n",
        "    for m in range(len(L1)):\n",
        "      if L[n]==L1[m]:\n",
        "        return True\n",
        "      else:\n",
        "        return False\n",
        "M =[[0,2,0],[4,0,5]]\n",
        "M1 =[[4,0,1],[6,6,6]]\n",
        "print(columnchecker(M,M1))"
      ],
      "metadata": {
        "colab": {
          "base_uri": "https://localhost:8080/",
          "height": 0
        },
        "id": "-qqxxH1E8nB4",
        "outputId": "628e761a-1598-4db1-8a73-1219f19fa892"
      },
      "execution_count": 18,
      "outputs": [
        {
          "output_type": "stream",
          "name": "stdout",
          "text": [
            "[4, 2, 5]\n",
            "False\n"
          ]
        }
      ]
    },
    {
      "cell_type": "code",
      "source": [
        "#Write a Python function, which, given two input binary trees of integers T1 and T2, defined following class Tree:\n",
        "#returns a boolean value True if and only if all values in T1 appear at least twice in T2.\n",
        "#The value False is returned otherwise.\n",
        "\n",
        "def nodefinder(T):\n",
        "  if T==None or T.root==None:\n",
        "    return []\n",
        "  else:\n",
        "    L1=nodefinder(T.left)\n",
        "    L2=nodefinder(T.right)\n",
        "    L3=[T.root]\n",
        "    return L1+L3+L2\n",
        "def compareTree(T1,T2):\n",
        "  A=nodefinder(T1)\n",
        "  B=nodefinder(T2)\n",
        "  print(A)\n",
        "  print(B)\n",
        "  for i in range(len(A)):\n",
        "    if B.count(A[i])<2*A.count(A[i]):\n",
        "      return False\n",
        "  return True\n",
        "\n",
        "T2= Tree(9,Tree(2),Tree(9,Tree(2,Tree(11),Tree(5)),Tree(11)))\n",
        "T1= Tree(11,Tree(9,Tree(2)))\n",
        "\n",
        "R=compareTree(T1,T2)\n",
        "R"
      ],
      "metadata": {
        "colab": {
          "base_uri": "https://localhost:8080/",
          "height": 0
        },
        "id": "RoXGiOxp9h7k",
        "outputId": "a5c83108-a0b9-49eb-e60d-d84e58762e49"
      },
      "execution_count": 19,
      "outputs": [
        {
          "output_type": "stream",
          "name": "stdout",
          "text": [
            "[2, 9, 11]\n",
            "[2, 9, 11, 2, 5, 9, 11]\n"
          ]
        },
        {
          "output_type": "execute_result",
          "data": {
            "text/plain": [
              "True"
            ]
          },
          "metadata": {},
          "execution_count": 19
        }
      ]
    },
    {
      "cell_type": "code",
      "source": [
        "#Write a pattern for recognizing a string which must contain at least two of the\n",
        "#following words: legal, Trump, policy\n",
        "\n",
        "import re\n",
        "def finder(s):\n",
        "  pattern=r\"(policy|Trump|legal)\"\n",
        "  string=s\n",
        "  a=re.findall(pattern,string)\n",
        "  print(a)\n",
        "  print(len(a))\n",
        "  if len(a)>1:\n",
        "    return True\n",
        "  else: return False\n",
        "\n",
        "string= \"the policy have to got Trump order\"\n",
        "b=finder(string)\n",
        "b"
      ],
      "metadata": {
        "colab": {
          "base_uri": "https://localhost:8080/",
          "height": 0
        },
        "id": "2sdyudeP9ycw",
        "outputId": "d1f7d85a-20a8-484b-d48c-ec0fd15b48c9"
      },
      "execution_count": 20,
      "outputs": [
        {
          "output_type": "stream",
          "name": "stdout",
          "text": [
            "['policy', 'Trump']\n",
            "2\n"
          ]
        },
        {
          "output_type": "execute_result",
          "data": {
            "text/plain": [
              "True"
            ]
          },
          "metadata": {},
          "execution_count": 20
        }
      ]
    },
    {
      "cell_type": "code",
      "source": [
        "#Consider the module “re” for defining Python regular expressions. Write a Python function which,\n",
        "#given a string S and a positive integer N, checks if S contains occurrences of a substring which\n",
        "#begins with one initial substring ‘xx’, contains the substring ‘yy’, ends with a substring 'zz' and\n",
        "#has length >N. The function has to print all occurrences of such substrings in S.\n",
        "\n",
        "def finder(s,n):\n",
        "  p=r'xx.*?yy.*?zz'\n",
        "  a=re.findall(p,s)\n",
        "  # print(len(a[1]))\n",
        "  for i in range(len(a)):\n",
        "    if len(a[i])>n:\n",
        "      print(a[i])\n",
        "    # else: print(\"not found\")\n",
        "string = \"abxxa1yydfczzbxxbbbyyxxzzcaaa12cccyy\"\n",
        "b=finder(string,8)\n",
        "b"
      ],
      "metadata": {
        "colab": {
          "base_uri": "https://localhost:8080/",
          "height": 0
        },
        "id": "aT5WHqdN-Raz",
        "outputId": "e2d5915e-93dc-4f5d-e3d7-8e1519cc6841"
      },
      "execution_count": 21,
      "outputs": [
        {
          "output_type": "stream",
          "name": "stdout",
          "text": [
            "xxa1yydfczz\n",
            "xxbbbyyxxzz\n"
          ]
        }
      ]
    }
  ]
}